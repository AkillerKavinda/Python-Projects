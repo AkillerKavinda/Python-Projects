{
 "cells": [
  {
   "cell_type": "code",
   "execution_count": 270,
   "id": "7c8f4df1-ccb9-4bc3-a199-ccd11a111158",
   "metadata": {},
   "outputs": [],
   "source": [
    "# Dataset Link - https://www.kaggle.com/datasets/heesoo37/120-years-of-olympic-history-athletes-and-results"
   ]
  },
  {
   "cell_type": "code",
   "execution_count": 271,
   "id": "40141103-7602-4e5a-9f2f-097d2dbf21d5",
   "metadata": {},
   "outputs": [],
   "source": [
    "import pandas as pd\n",
    "import matplotlib.pyplot as plt\n",
    "import seaborn as sns"
   ]
  },
  {
   "cell_type": "code",
   "execution_count": 272,
   "id": "3fbb31ac-ef6b-4109-ad34-5c4d93269391",
   "metadata": {},
   "outputs": [],
   "source": [
    "df = pd.read_csv(r\"C:\\Users\\kavin\\Downloads\\archive\\athlete_events.csv\")"
   ]
  },
  {
   "cell_type": "code",
   "execution_count": 273,
   "id": "7c63ecb3-d6ae-4155-8dba-ea8a6027721e",
   "metadata": {},
   "outputs": [
    {
     "data": {
      "text/html": [
       "<div>\n",
       "<style scoped>\n",
       "    .dataframe tbody tr th:only-of-type {\n",
       "        vertical-align: middle;\n",
       "    }\n",
       "\n",
       "    .dataframe tbody tr th {\n",
       "        vertical-align: top;\n",
       "    }\n",
       "\n",
       "    .dataframe thead th {\n",
       "        text-align: right;\n",
       "    }\n",
       "</style>\n",
       "<table border=\"1\" class=\"dataframe\">\n",
       "  <thead>\n",
       "    <tr style=\"text-align: right;\">\n",
       "      <th></th>\n",
       "      <th>ID</th>\n",
       "      <th>Name</th>\n",
       "      <th>Sex</th>\n",
       "      <th>Age</th>\n",
       "      <th>Height</th>\n",
       "      <th>Weight</th>\n",
       "      <th>Team</th>\n",
       "      <th>NOC</th>\n",
       "      <th>Games</th>\n",
       "      <th>Year</th>\n",
       "      <th>Season</th>\n",
       "      <th>City</th>\n",
       "      <th>Sport</th>\n",
       "      <th>Event</th>\n",
       "      <th>Medal</th>\n",
       "    </tr>\n",
       "  </thead>\n",
       "  <tbody>\n",
       "    <tr>\n",
       "      <th>0</th>\n",
       "      <td>1</td>\n",
       "      <td>A Dijiang</td>\n",
       "      <td>M</td>\n",
       "      <td>24.0</td>\n",
       "      <td>180.0</td>\n",
       "      <td>80.0</td>\n",
       "      <td>China</td>\n",
       "      <td>CHN</td>\n",
       "      <td>1992 Summer</td>\n",
       "      <td>1992</td>\n",
       "      <td>Summer</td>\n",
       "      <td>Barcelona</td>\n",
       "      <td>Basketball</td>\n",
       "      <td>Basketball Men's Basketball</td>\n",
       "      <td>NaN</td>\n",
       "    </tr>\n",
       "    <tr>\n",
       "      <th>1</th>\n",
       "      <td>2</td>\n",
       "      <td>A Lamusi</td>\n",
       "      <td>M</td>\n",
       "      <td>23.0</td>\n",
       "      <td>170.0</td>\n",
       "      <td>60.0</td>\n",
       "      <td>China</td>\n",
       "      <td>CHN</td>\n",
       "      <td>2012 Summer</td>\n",
       "      <td>2012</td>\n",
       "      <td>Summer</td>\n",
       "      <td>London</td>\n",
       "      <td>Judo</td>\n",
       "      <td>Judo Men's Extra-Lightweight</td>\n",
       "      <td>NaN</td>\n",
       "    </tr>\n",
       "    <tr>\n",
       "      <th>2</th>\n",
       "      <td>3</td>\n",
       "      <td>Gunnar Nielsen Aaby</td>\n",
       "      <td>M</td>\n",
       "      <td>24.0</td>\n",
       "      <td>NaN</td>\n",
       "      <td>NaN</td>\n",
       "      <td>Denmark</td>\n",
       "      <td>DEN</td>\n",
       "      <td>1920 Summer</td>\n",
       "      <td>1920</td>\n",
       "      <td>Summer</td>\n",
       "      <td>Antwerpen</td>\n",
       "      <td>Football</td>\n",
       "      <td>Football Men's Football</td>\n",
       "      <td>NaN</td>\n",
       "    </tr>\n",
       "    <tr>\n",
       "      <th>3</th>\n",
       "      <td>4</td>\n",
       "      <td>Edgar Lindenau Aabye</td>\n",
       "      <td>M</td>\n",
       "      <td>34.0</td>\n",
       "      <td>NaN</td>\n",
       "      <td>NaN</td>\n",
       "      <td>Denmark/Sweden</td>\n",
       "      <td>DEN</td>\n",
       "      <td>1900 Summer</td>\n",
       "      <td>1900</td>\n",
       "      <td>Summer</td>\n",
       "      <td>Paris</td>\n",
       "      <td>Tug-Of-War</td>\n",
       "      <td>Tug-Of-War Men's Tug-Of-War</td>\n",
       "      <td>Gold</td>\n",
       "    </tr>\n",
       "    <tr>\n",
       "      <th>4</th>\n",
       "      <td>5</td>\n",
       "      <td>Christine Jacoba Aaftink</td>\n",
       "      <td>F</td>\n",
       "      <td>21.0</td>\n",
       "      <td>185.0</td>\n",
       "      <td>82.0</td>\n",
       "      <td>Netherlands</td>\n",
       "      <td>NED</td>\n",
       "      <td>1988 Winter</td>\n",
       "      <td>1988</td>\n",
       "      <td>Winter</td>\n",
       "      <td>Calgary</td>\n",
       "      <td>Speed Skating</td>\n",
       "      <td>Speed Skating Women's 500 metres</td>\n",
       "      <td>NaN</td>\n",
       "    </tr>\n",
       "  </tbody>\n",
       "</table>\n",
       "</div>"
      ],
      "text/plain": [
       "   ID                      Name Sex   Age  Height  Weight            Team  \\\n",
       "0   1                 A Dijiang   M  24.0   180.0    80.0           China   \n",
       "1   2                  A Lamusi   M  23.0   170.0    60.0           China   \n",
       "2   3       Gunnar Nielsen Aaby   M  24.0     NaN     NaN         Denmark   \n",
       "3   4      Edgar Lindenau Aabye   M  34.0     NaN     NaN  Denmark/Sweden   \n",
       "4   5  Christine Jacoba Aaftink   F  21.0   185.0    82.0     Netherlands   \n",
       "\n",
       "   NOC        Games  Year  Season       City          Sport  \\\n",
       "0  CHN  1992 Summer  1992  Summer  Barcelona     Basketball   \n",
       "1  CHN  2012 Summer  2012  Summer     London           Judo   \n",
       "2  DEN  1920 Summer  1920  Summer  Antwerpen       Football   \n",
       "3  DEN  1900 Summer  1900  Summer      Paris     Tug-Of-War   \n",
       "4  NED  1988 Winter  1988  Winter    Calgary  Speed Skating   \n",
       "\n",
       "                              Event Medal  \n",
       "0       Basketball Men's Basketball   NaN  \n",
       "1      Judo Men's Extra-Lightweight   NaN  \n",
       "2           Football Men's Football   NaN  \n",
       "3       Tug-Of-War Men's Tug-Of-War  Gold  \n",
       "4  Speed Skating Women's 500 metres   NaN  "
      ]
     },
     "execution_count": 273,
     "metadata": {},
     "output_type": "execute_result"
    }
   ],
   "source": [
    "df.head()"
   ]
  },
  {
   "cell_type": "markdown",
   "id": "c0a6c028-4c32-4e7c-8de0-c3807fda1c2c",
   "metadata": {},
   "source": [
    "# Display the top 5 rows"
   ]
  },
  {
   "cell_type": "code",
   "execution_count": 274,
   "id": "6a49dab0-6fc9-4501-8d7e-0d4cf17bcc83",
   "metadata": {},
   "outputs": [
    {
     "data": {
      "text/html": [
       "<div>\n",
       "<style scoped>\n",
       "    .dataframe tbody tr th:only-of-type {\n",
       "        vertical-align: middle;\n",
       "    }\n",
       "\n",
       "    .dataframe tbody tr th {\n",
       "        vertical-align: top;\n",
       "    }\n",
       "\n",
       "    .dataframe thead th {\n",
       "        text-align: right;\n",
       "    }\n",
       "</style>\n",
       "<table border=\"1\" class=\"dataframe\">\n",
       "  <thead>\n",
       "    <tr style=\"text-align: right;\">\n",
       "      <th></th>\n",
       "      <th>ID</th>\n",
       "      <th>Name</th>\n",
       "      <th>Sex</th>\n",
       "      <th>Age</th>\n",
       "      <th>Height</th>\n",
       "      <th>Weight</th>\n",
       "      <th>Team</th>\n",
       "      <th>NOC</th>\n",
       "      <th>Games</th>\n",
       "      <th>Year</th>\n",
       "      <th>Season</th>\n",
       "      <th>City</th>\n",
       "      <th>Sport</th>\n",
       "      <th>Event</th>\n",
       "      <th>Medal</th>\n",
       "    </tr>\n",
       "  </thead>\n",
       "  <tbody>\n",
       "    <tr>\n",
       "      <th>0</th>\n",
       "      <td>1</td>\n",
       "      <td>A Dijiang</td>\n",
       "      <td>M</td>\n",
       "      <td>24.0</td>\n",
       "      <td>180.0</td>\n",
       "      <td>80.0</td>\n",
       "      <td>China</td>\n",
       "      <td>CHN</td>\n",
       "      <td>1992 Summer</td>\n",
       "      <td>1992</td>\n",
       "      <td>Summer</td>\n",
       "      <td>Barcelona</td>\n",
       "      <td>Basketball</td>\n",
       "      <td>Basketball Men's Basketball</td>\n",
       "      <td>NaN</td>\n",
       "    </tr>\n",
       "    <tr>\n",
       "      <th>1</th>\n",
       "      <td>2</td>\n",
       "      <td>A Lamusi</td>\n",
       "      <td>M</td>\n",
       "      <td>23.0</td>\n",
       "      <td>170.0</td>\n",
       "      <td>60.0</td>\n",
       "      <td>China</td>\n",
       "      <td>CHN</td>\n",
       "      <td>2012 Summer</td>\n",
       "      <td>2012</td>\n",
       "      <td>Summer</td>\n",
       "      <td>London</td>\n",
       "      <td>Judo</td>\n",
       "      <td>Judo Men's Extra-Lightweight</td>\n",
       "      <td>NaN</td>\n",
       "    </tr>\n",
       "    <tr>\n",
       "      <th>2</th>\n",
       "      <td>3</td>\n",
       "      <td>Gunnar Nielsen Aaby</td>\n",
       "      <td>M</td>\n",
       "      <td>24.0</td>\n",
       "      <td>NaN</td>\n",
       "      <td>NaN</td>\n",
       "      <td>Denmark</td>\n",
       "      <td>DEN</td>\n",
       "      <td>1920 Summer</td>\n",
       "      <td>1920</td>\n",
       "      <td>Summer</td>\n",
       "      <td>Antwerpen</td>\n",
       "      <td>Football</td>\n",
       "      <td>Football Men's Football</td>\n",
       "      <td>NaN</td>\n",
       "    </tr>\n",
       "    <tr>\n",
       "      <th>3</th>\n",
       "      <td>4</td>\n",
       "      <td>Edgar Lindenau Aabye</td>\n",
       "      <td>M</td>\n",
       "      <td>34.0</td>\n",
       "      <td>NaN</td>\n",
       "      <td>NaN</td>\n",
       "      <td>Denmark/Sweden</td>\n",
       "      <td>DEN</td>\n",
       "      <td>1900 Summer</td>\n",
       "      <td>1900</td>\n",
       "      <td>Summer</td>\n",
       "      <td>Paris</td>\n",
       "      <td>Tug-Of-War</td>\n",
       "      <td>Tug-Of-War Men's Tug-Of-War</td>\n",
       "      <td>Gold</td>\n",
       "    </tr>\n",
       "    <tr>\n",
       "      <th>4</th>\n",
       "      <td>5</td>\n",
       "      <td>Christine Jacoba Aaftink</td>\n",
       "      <td>F</td>\n",
       "      <td>21.0</td>\n",
       "      <td>185.0</td>\n",
       "      <td>82.0</td>\n",
       "      <td>Netherlands</td>\n",
       "      <td>NED</td>\n",
       "      <td>1988 Winter</td>\n",
       "      <td>1988</td>\n",
       "      <td>Winter</td>\n",
       "      <td>Calgary</td>\n",
       "      <td>Speed Skating</td>\n",
       "      <td>Speed Skating Women's 500 metres</td>\n",
       "      <td>NaN</td>\n",
       "    </tr>\n",
       "  </tbody>\n",
       "</table>\n",
       "</div>"
      ],
      "text/plain": [
       "   ID                      Name Sex   Age  Height  Weight            Team  \\\n",
       "0   1                 A Dijiang   M  24.0   180.0    80.0           China   \n",
       "1   2                  A Lamusi   M  23.0   170.0    60.0           China   \n",
       "2   3       Gunnar Nielsen Aaby   M  24.0     NaN     NaN         Denmark   \n",
       "3   4      Edgar Lindenau Aabye   M  34.0     NaN     NaN  Denmark/Sweden   \n",
       "4   5  Christine Jacoba Aaftink   F  21.0   185.0    82.0     Netherlands   \n",
       "\n",
       "   NOC        Games  Year  Season       City          Sport  \\\n",
       "0  CHN  1992 Summer  1992  Summer  Barcelona     Basketball   \n",
       "1  CHN  2012 Summer  2012  Summer     London           Judo   \n",
       "2  DEN  1920 Summer  1920  Summer  Antwerpen       Football   \n",
       "3  DEN  1900 Summer  1900  Summer      Paris     Tug-Of-War   \n",
       "4  NED  1988 Winter  1988  Winter    Calgary  Speed Skating   \n",
       "\n",
       "                              Event Medal  \n",
       "0       Basketball Men's Basketball   NaN  \n",
       "1      Judo Men's Extra-Lightweight   NaN  \n",
       "2           Football Men's Football   NaN  \n",
       "3       Tug-Of-War Men's Tug-Of-War  Gold  \n",
       "4  Speed Skating Women's 500 metres   NaN  "
      ]
     },
     "execution_count": 274,
     "metadata": {},
     "output_type": "execute_result"
    }
   ],
   "source": [
    "df.head()"
   ]
  },
  {
   "cell_type": "markdown",
   "id": "26420a7f-2554-4871-981b-32fc6889cd4b",
   "metadata": {},
   "source": [
    "# Display last 5 rows"
   ]
  },
  {
   "cell_type": "code",
   "execution_count": 275,
   "id": "b11f1ff2-ac67-41be-95e0-36f990564250",
   "metadata": {},
   "outputs": [
    {
     "data": {
      "text/html": [
       "<div>\n",
       "<style scoped>\n",
       "    .dataframe tbody tr th:only-of-type {\n",
       "        vertical-align: middle;\n",
       "    }\n",
       "\n",
       "    .dataframe tbody tr th {\n",
       "        vertical-align: top;\n",
       "    }\n",
       "\n",
       "    .dataframe thead th {\n",
       "        text-align: right;\n",
       "    }\n",
       "</style>\n",
       "<table border=\"1\" class=\"dataframe\">\n",
       "  <thead>\n",
       "    <tr style=\"text-align: right;\">\n",
       "      <th></th>\n",
       "      <th>ID</th>\n",
       "      <th>Name</th>\n",
       "      <th>Sex</th>\n",
       "      <th>Age</th>\n",
       "      <th>Height</th>\n",
       "      <th>Weight</th>\n",
       "      <th>Team</th>\n",
       "      <th>NOC</th>\n",
       "      <th>Games</th>\n",
       "      <th>Year</th>\n",
       "      <th>Season</th>\n",
       "      <th>City</th>\n",
       "      <th>Sport</th>\n",
       "      <th>Event</th>\n",
       "      <th>Medal</th>\n",
       "    </tr>\n",
       "  </thead>\n",
       "  <tbody>\n",
       "    <tr>\n",
       "      <th>271111</th>\n",
       "      <td>135569</td>\n",
       "      <td>Andrzej ya</td>\n",
       "      <td>M</td>\n",
       "      <td>29.0</td>\n",
       "      <td>179.0</td>\n",
       "      <td>89.0</td>\n",
       "      <td>Poland-1</td>\n",
       "      <td>POL</td>\n",
       "      <td>1976 Winter</td>\n",
       "      <td>1976</td>\n",
       "      <td>Winter</td>\n",
       "      <td>Innsbruck</td>\n",
       "      <td>Luge</td>\n",
       "      <td>Luge Mixed (Men)'s Doubles</td>\n",
       "      <td>NaN</td>\n",
       "    </tr>\n",
       "    <tr>\n",
       "      <th>271112</th>\n",
       "      <td>135570</td>\n",
       "      <td>Piotr ya</td>\n",
       "      <td>M</td>\n",
       "      <td>27.0</td>\n",
       "      <td>176.0</td>\n",
       "      <td>59.0</td>\n",
       "      <td>Poland</td>\n",
       "      <td>POL</td>\n",
       "      <td>2014 Winter</td>\n",
       "      <td>2014</td>\n",
       "      <td>Winter</td>\n",
       "      <td>Sochi</td>\n",
       "      <td>Ski Jumping</td>\n",
       "      <td>Ski Jumping Men's Large Hill, Individual</td>\n",
       "      <td>NaN</td>\n",
       "    </tr>\n",
       "    <tr>\n",
       "      <th>271113</th>\n",
       "      <td>135570</td>\n",
       "      <td>Piotr ya</td>\n",
       "      <td>M</td>\n",
       "      <td>27.0</td>\n",
       "      <td>176.0</td>\n",
       "      <td>59.0</td>\n",
       "      <td>Poland</td>\n",
       "      <td>POL</td>\n",
       "      <td>2014 Winter</td>\n",
       "      <td>2014</td>\n",
       "      <td>Winter</td>\n",
       "      <td>Sochi</td>\n",
       "      <td>Ski Jumping</td>\n",
       "      <td>Ski Jumping Men's Large Hill, Team</td>\n",
       "      <td>NaN</td>\n",
       "    </tr>\n",
       "    <tr>\n",
       "      <th>271114</th>\n",
       "      <td>135571</td>\n",
       "      <td>Tomasz Ireneusz ya</td>\n",
       "      <td>M</td>\n",
       "      <td>30.0</td>\n",
       "      <td>185.0</td>\n",
       "      <td>96.0</td>\n",
       "      <td>Poland</td>\n",
       "      <td>POL</td>\n",
       "      <td>1998 Winter</td>\n",
       "      <td>1998</td>\n",
       "      <td>Winter</td>\n",
       "      <td>Nagano</td>\n",
       "      <td>Bobsleigh</td>\n",
       "      <td>Bobsleigh Men's Four</td>\n",
       "      <td>NaN</td>\n",
       "    </tr>\n",
       "    <tr>\n",
       "      <th>271115</th>\n",
       "      <td>135571</td>\n",
       "      <td>Tomasz Ireneusz ya</td>\n",
       "      <td>M</td>\n",
       "      <td>34.0</td>\n",
       "      <td>185.0</td>\n",
       "      <td>96.0</td>\n",
       "      <td>Poland</td>\n",
       "      <td>POL</td>\n",
       "      <td>2002 Winter</td>\n",
       "      <td>2002</td>\n",
       "      <td>Winter</td>\n",
       "      <td>Salt Lake City</td>\n",
       "      <td>Bobsleigh</td>\n",
       "      <td>Bobsleigh Men's Four</td>\n",
       "      <td>NaN</td>\n",
       "    </tr>\n",
       "  </tbody>\n",
       "</table>\n",
       "</div>"
      ],
      "text/plain": [
       "            ID                Name Sex   Age  Height  Weight      Team  NOC  \\\n",
       "271111  135569          Andrzej ya   M  29.0   179.0    89.0  Poland-1  POL   \n",
       "271112  135570            Piotr ya   M  27.0   176.0    59.0    Poland  POL   \n",
       "271113  135570            Piotr ya   M  27.0   176.0    59.0    Poland  POL   \n",
       "271114  135571  Tomasz Ireneusz ya   M  30.0   185.0    96.0    Poland  POL   \n",
       "271115  135571  Tomasz Ireneusz ya   M  34.0   185.0    96.0    Poland  POL   \n",
       "\n",
       "              Games  Year  Season            City        Sport  \\\n",
       "271111  1976 Winter  1976  Winter       Innsbruck         Luge   \n",
       "271112  2014 Winter  2014  Winter           Sochi  Ski Jumping   \n",
       "271113  2014 Winter  2014  Winter           Sochi  Ski Jumping   \n",
       "271114  1998 Winter  1998  Winter          Nagano    Bobsleigh   \n",
       "271115  2002 Winter  2002  Winter  Salt Lake City    Bobsleigh   \n",
       "\n",
       "                                           Event Medal  \n",
       "271111                Luge Mixed (Men)'s Doubles   NaN  \n",
       "271112  Ski Jumping Men's Large Hill, Individual   NaN  \n",
       "271113        Ski Jumping Men's Large Hill, Team   NaN  \n",
       "271114                      Bobsleigh Men's Four   NaN  \n",
       "271115                      Bobsleigh Men's Four   NaN  "
      ]
     },
     "execution_count": 275,
     "metadata": {},
     "output_type": "execute_result"
    }
   ],
   "source": [
    "df.tail()"
   ]
  },
  {
   "cell_type": "markdown",
   "id": "e203aba9-3af9-4136-a9df-3fe2bd64a10a",
   "metadata": {},
   "source": [
    "# Printing 5 random rows\n"
   ]
  },
  {
   "cell_type": "code",
   "execution_count": 276,
   "id": "3e6eaa7f-e34e-47e0-a694-60fd76bbd6e1",
   "metadata": {},
   "outputs": [
    {
     "data": {
      "text/html": [
       "<div>\n",
       "<style scoped>\n",
       "    .dataframe tbody tr th:only-of-type {\n",
       "        vertical-align: middle;\n",
       "    }\n",
       "\n",
       "    .dataframe tbody tr th {\n",
       "        vertical-align: top;\n",
       "    }\n",
       "\n",
       "    .dataframe thead th {\n",
       "        text-align: right;\n",
       "    }\n",
       "</style>\n",
       "<table border=\"1\" class=\"dataframe\">\n",
       "  <thead>\n",
       "    <tr style=\"text-align: right;\">\n",
       "      <th></th>\n",
       "      <th>ID</th>\n",
       "      <th>Name</th>\n",
       "      <th>Sex</th>\n",
       "      <th>Age</th>\n",
       "      <th>Height</th>\n",
       "      <th>Weight</th>\n",
       "      <th>Team</th>\n",
       "      <th>NOC</th>\n",
       "      <th>Games</th>\n",
       "      <th>Year</th>\n",
       "      <th>Season</th>\n",
       "      <th>City</th>\n",
       "      <th>Sport</th>\n",
       "      <th>Event</th>\n",
       "      <th>Medal</th>\n",
       "    </tr>\n",
       "  </thead>\n",
       "  <tbody>\n",
       "    <tr>\n",
       "      <th>7692</th>\n",
       "      <td>4280</td>\n",
       "      <td>Nikolaos \"Nikos\" Angelidis</td>\n",
       "      <td>M</td>\n",
       "      <td>23.0</td>\n",
       "      <td>183.0</td>\n",
       "      <td>79.0</td>\n",
       "      <td>Greece</td>\n",
       "      <td>GRE</td>\n",
       "      <td>2000 Summer</td>\n",
       "      <td>2000</td>\n",
       "      <td>Summer</td>\n",
       "      <td>Sydney</td>\n",
       "      <td>Cycling</td>\n",
       "      <td>Cycling Men's Sprint</td>\n",
       "      <td>NaN</td>\n",
       "    </tr>\n",
       "    <tr>\n",
       "      <th>17478</th>\n",
       "      <td>9315</td>\n",
       "      <td>Carol Bed</td>\n",
       "      <td>M</td>\n",
       "      <td>21.0</td>\n",
       "      <td>NaN</td>\n",
       "      <td>NaN</td>\n",
       "      <td>Romania</td>\n",
       "      <td>ROU</td>\n",
       "      <td>1952 Summer</td>\n",
       "      <td>1952</td>\n",
       "      <td>Summer</td>\n",
       "      <td>Helsinki</td>\n",
       "      <td>Gymnastics</td>\n",
       "      <td>Gymnastics Men's Team All-Around</td>\n",
       "      <td>NaN</td>\n",
       "    </tr>\n",
       "    <tr>\n",
       "      <th>113075</th>\n",
       "      <td>57283</td>\n",
       "      <td>Arja Leena Kantola (-Klemz)</td>\n",
       "      <td>F</td>\n",
       "      <td>22.0</td>\n",
       "      <td>167.0</td>\n",
       "      <td>54.0</td>\n",
       "      <td>Finland</td>\n",
       "      <td>FIN</td>\n",
       "      <td>1972 Winter</td>\n",
       "      <td>1972</td>\n",
       "      <td>Winter</td>\n",
       "      <td>Sapporo</td>\n",
       "      <td>Speed Skating</td>\n",
       "      <td>Speed Skating Women's 1,000 metres</td>\n",
       "      <td>NaN</td>\n",
       "    </tr>\n",
       "    <tr>\n",
       "      <th>54257</th>\n",
       "      <td>27838</td>\n",
       "      <td>Maria Despas</td>\n",
       "      <td>F</td>\n",
       "      <td>30.0</td>\n",
       "      <td>165.0</td>\n",
       "      <td>61.0</td>\n",
       "      <td>Australia</td>\n",
       "      <td>AUS</td>\n",
       "      <td>1998 Winter</td>\n",
       "      <td>1998</td>\n",
       "      <td>Winter</td>\n",
       "      <td>Nagano</td>\n",
       "      <td>Freestyle Skiing</td>\n",
       "      <td>Freestyle Skiing Women's Moguls</td>\n",
       "      <td>NaN</td>\n",
       "    </tr>\n",
       "    <tr>\n",
       "      <th>55675</th>\n",
       "      <td>28530</td>\n",
       "      <td>Damon Laurance Diletti</td>\n",
       "      <td>M</td>\n",
       "      <td>21.0</td>\n",
       "      <td>178.0</td>\n",
       "      <td>86.0</td>\n",
       "      <td>Australia</td>\n",
       "      <td>AUS</td>\n",
       "      <td>1992 Summer</td>\n",
       "      <td>1992</td>\n",
       "      <td>Summer</td>\n",
       "      <td>Barcelona</td>\n",
       "      <td>Hockey</td>\n",
       "      <td>Hockey Men's Hockey</td>\n",
       "      <td>Silver</td>\n",
       "    </tr>\n",
       "  </tbody>\n",
       "</table>\n",
       "</div>"
      ],
      "text/plain": [
       "           ID                         Name Sex   Age  Height  Weight  \\\n",
       "7692     4280   Nikolaos \"Nikos\" Angelidis   M  23.0   183.0    79.0   \n",
       "17478    9315                    Carol Bed   M  21.0     NaN     NaN   \n",
       "113075  57283  Arja Leena Kantola (-Klemz)   F  22.0   167.0    54.0   \n",
       "54257   27838                 Maria Despas   F  30.0   165.0    61.0   \n",
       "55675   28530       Damon Laurance Diletti   M  21.0   178.0    86.0   \n",
       "\n",
       "             Team  NOC        Games  Year  Season       City  \\\n",
       "7692       Greece  GRE  2000 Summer  2000  Summer     Sydney   \n",
       "17478     Romania  ROU  1952 Summer  1952  Summer   Helsinki   \n",
       "113075    Finland  FIN  1972 Winter  1972  Winter    Sapporo   \n",
       "54257   Australia  AUS  1998 Winter  1998  Winter     Nagano   \n",
       "55675   Australia  AUS  1992 Summer  1992  Summer  Barcelona   \n",
       "\n",
       "                   Sport                               Event   Medal  \n",
       "7692             Cycling                Cycling Men's Sprint     NaN  \n",
       "17478         Gymnastics    Gymnastics Men's Team All-Around     NaN  \n",
       "113075     Speed Skating  Speed Skating Women's 1,000 metres     NaN  \n",
       "54257   Freestyle Skiing     Freestyle Skiing Women's Moguls     NaN  \n",
       "55675             Hockey                 Hockey Men's Hockey  Silver  "
      ]
     },
     "execution_count": 276,
     "metadata": {},
     "output_type": "execute_result"
    }
   ],
   "source": [
    "df.sample(5)"
   ]
  },
  {
   "cell_type": "markdown",
   "id": "5d4d6565-f483-4c25-983a-129fdd91bda2",
   "metadata": {},
   "source": [
    "# Shape of the dataset\n"
   ]
  },
  {
   "cell_type": "code",
   "execution_count": 277,
   "id": "df611e75-94c4-4786-920d-74d11b4e17ee",
   "metadata": {},
   "outputs": [
    {
     "data": {
      "text/plain": [
       "(271116, 15)"
      ]
     },
     "execution_count": 277,
     "metadata": {},
     "output_type": "execute_result"
    }
   ],
   "source": [
    "df.shape"
   ]
  },
  {
   "cell_type": "markdown",
   "id": "0a16cf98-3fb2-4485-a264-24516e59a05e",
   "metadata": {},
   "source": [
    "# Checking for missing values\n"
   ]
  },
  {
   "cell_type": "code",
   "execution_count": 278,
   "id": "66ff40ea-1799-413e-bb40-f30d685abad7",
   "metadata": {},
   "outputs": [
    {
     "data": {
      "text/plain": [
       "ID             0\n",
       "Name           0\n",
       "Sex            0\n",
       "Age         9474\n",
       "Height     60171\n",
       "Weight     62875\n",
       "Team           0\n",
       "NOC            0\n",
       "Games          0\n",
       "Year           0\n",
       "Season         0\n",
       "City           0\n",
       "Sport          0\n",
       "Event          0\n",
       "Medal     231333\n",
       "dtype: int64"
      ]
     },
     "execution_count": 278,
     "metadata": {},
     "output_type": "execute_result"
    }
   ],
   "source": [
    "df.isnull().sum()"
   ]
  },
  {
   "cell_type": "markdown",
   "id": "95f518ef-9ccb-443a-9002-2f45ae8cb000",
   "metadata": {},
   "source": [
    "# Replacing the missing values with the mean of each column. No need for the medals because it reprents no medals. \n"
   ]
  },
  {
   "cell_type": "code",
   "execution_count": 279,
   "id": "5f1e4367-9a3e-488b-8109-3d52f1c7d472",
   "metadata": {},
   "outputs": [],
   "source": [
    "df[\"Age\"] = df[\"Age\"].fillna(df[\"Age\"].mean())\n",
    "df[\"Height\"] = df[\"Height\"].fillna(df[\"Height\"].mean())\n",
    "df[\"Weight\"] = df[\"Weight\"].fillna(df[\"Weight\"].mean())"
   ]
  },
  {
   "cell_type": "code",
   "execution_count": 280,
   "id": "614bd6fd-9b56-4cc8-b8c9-fdbe67f2a91e",
   "metadata": {},
   "outputs": [
    {
     "data": {
      "text/plain": [
       "ID             0\n",
       "Name           0\n",
       "Sex            0\n",
       "Age            0\n",
       "Height         0\n",
       "Weight         0\n",
       "Team           0\n",
       "NOC            0\n",
       "Games          0\n",
       "Year           0\n",
       "Season         0\n",
       "City           0\n",
       "Sport          0\n",
       "Event          0\n",
       "Medal     231333\n",
       "dtype: int64"
      ]
     },
     "execution_count": 280,
     "metadata": {},
     "output_type": "execute_result"
    }
   ],
   "source": [
    "df.isnull().sum()"
   ]
  },
  {
   "cell_type": "markdown",
   "id": "df9ba1c7-d57c-4191-a82d-e7e295b437ed",
   "metadata": {},
   "source": [
    "# Dataset info\n"
   ]
  },
  {
   "cell_type": "code",
   "execution_count": 281,
   "id": "bcb65657-57e3-4d09-b8d7-022b902a8f18",
   "metadata": {},
   "outputs": [
    {
     "name": "stdout",
     "output_type": "stream",
     "text": [
      "<class 'pandas.core.frame.DataFrame'>\n",
      "RangeIndex: 271116 entries, 0 to 271115\n",
      "Data columns (total 15 columns):\n",
      " #   Column  Non-Null Count   Dtype  \n",
      "---  ------  --------------   -----  \n",
      " 0   ID      271116 non-null  int64  \n",
      " 1   Name    271116 non-null  object \n",
      " 2   Sex     271116 non-null  object \n",
      " 3   Age     271116 non-null  float64\n",
      " 4   Height  271116 non-null  float64\n",
      " 5   Weight  271116 non-null  float64\n",
      " 6   Team    271116 non-null  object \n",
      " 7   NOC     271116 non-null  object \n",
      " 8   Games   271116 non-null  object \n",
      " 9   Year    271116 non-null  int64  \n",
      " 10  Season  271116 non-null  object \n",
      " 11  City    271116 non-null  object \n",
      " 12  Sport   271116 non-null  object \n",
      " 13  Event   271116 non-null  object \n",
      " 14  Medal   39783 non-null   object \n",
      "dtypes: float64(3), int64(2), object(10)\n",
      "memory usage: 31.0+ MB\n"
     ]
    }
   ],
   "source": [
    "df.info()"
   ]
  },
  {
   "cell_type": "markdown",
   "id": "f5a3e15d-fc69-46bb-83e0-36e8ef847cb9",
   "metadata": {},
   "source": [
    "# Statistics of the dataset\n"
   ]
  },
  {
   "cell_type": "code",
   "execution_count": 282,
   "id": "9aebec67-235e-4e47-b4b9-a528037878bc",
   "metadata": {},
   "outputs": [
    {
     "data": {
      "text/html": [
       "<div>\n",
       "<style scoped>\n",
       "    .dataframe tbody tr th:only-of-type {\n",
       "        vertical-align: middle;\n",
       "    }\n",
       "\n",
       "    .dataframe tbody tr th {\n",
       "        vertical-align: top;\n",
       "    }\n",
       "\n",
       "    .dataframe thead th {\n",
       "        text-align: right;\n",
       "    }\n",
       "</style>\n",
       "<table border=\"1\" class=\"dataframe\">\n",
       "  <thead>\n",
       "    <tr style=\"text-align: right;\">\n",
       "      <th></th>\n",
       "      <th>ID</th>\n",
       "      <th>Age</th>\n",
       "      <th>Height</th>\n",
       "      <th>Weight</th>\n",
       "      <th>Year</th>\n",
       "    </tr>\n",
       "  </thead>\n",
       "  <tbody>\n",
       "    <tr>\n",
       "      <th>count</th>\n",
       "      <td>271116.000000</td>\n",
       "      <td>271116.000000</td>\n",
       "      <td>271116.00000</td>\n",
       "      <td>271116.000000</td>\n",
       "      <td>271116.000000</td>\n",
       "    </tr>\n",
       "    <tr>\n",
       "      <th>mean</th>\n",
       "      <td>68248.954396</td>\n",
       "      <td>25.556898</td>\n",
       "      <td>175.33897</td>\n",
       "      <td>70.702393</td>\n",
       "      <td>1978.378480</td>\n",
       "    </tr>\n",
       "    <tr>\n",
       "      <th>std</th>\n",
       "      <td>39022.286345</td>\n",
       "      <td>6.280857</td>\n",
       "      <td>9.27810</td>\n",
       "      <td>12.574690</td>\n",
       "      <td>29.877632</td>\n",
       "    </tr>\n",
       "    <tr>\n",
       "      <th>min</th>\n",
       "      <td>1.000000</td>\n",
       "      <td>10.000000</td>\n",
       "      <td>127.00000</td>\n",
       "      <td>25.000000</td>\n",
       "      <td>1896.000000</td>\n",
       "    </tr>\n",
       "    <tr>\n",
       "      <th>25%</th>\n",
       "      <td>34643.000000</td>\n",
       "      <td>22.000000</td>\n",
       "      <td>170.00000</td>\n",
       "      <td>63.000000</td>\n",
       "      <td>1960.000000</td>\n",
       "    </tr>\n",
       "    <tr>\n",
       "      <th>50%</th>\n",
       "      <td>68205.000000</td>\n",
       "      <td>25.000000</td>\n",
       "      <td>175.33897</td>\n",
       "      <td>70.702393</td>\n",
       "      <td>1988.000000</td>\n",
       "    </tr>\n",
       "    <tr>\n",
       "      <th>75%</th>\n",
       "      <td>102097.250000</td>\n",
       "      <td>28.000000</td>\n",
       "      <td>180.00000</td>\n",
       "      <td>75.000000</td>\n",
       "      <td>2002.000000</td>\n",
       "    </tr>\n",
       "    <tr>\n",
       "      <th>max</th>\n",
       "      <td>135571.000000</td>\n",
       "      <td>97.000000</td>\n",
       "      <td>226.00000</td>\n",
       "      <td>214.000000</td>\n",
       "      <td>2016.000000</td>\n",
       "    </tr>\n",
       "  </tbody>\n",
       "</table>\n",
       "</div>"
      ],
      "text/plain": [
       "                  ID            Age        Height         Weight  \\\n",
       "count  271116.000000  271116.000000  271116.00000  271116.000000   \n",
       "mean    68248.954396      25.556898     175.33897      70.702393   \n",
       "std     39022.286345       6.280857       9.27810      12.574690   \n",
       "min         1.000000      10.000000     127.00000      25.000000   \n",
       "25%     34643.000000      22.000000     170.00000      63.000000   \n",
       "50%     68205.000000      25.000000     175.33897      70.702393   \n",
       "75%    102097.250000      28.000000     180.00000      75.000000   \n",
       "max    135571.000000      97.000000     226.00000     214.000000   \n",
       "\n",
       "                Year  \n",
       "count  271116.000000  \n",
       "mean     1978.378480  \n",
       "std        29.877632  \n",
       "min      1896.000000  \n",
       "25%      1960.000000  \n",
       "50%      1988.000000  \n",
       "75%      2002.000000  \n",
       "max      2016.000000  "
      ]
     },
     "execution_count": 282,
     "metadata": {},
     "output_type": "execute_result"
    }
   ],
   "source": [
    "df.describe()"
   ]
  },
  {
   "cell_type": "markdown",
   "id": "832a19d2-1f69-425a-8b59-11ce17ab7464",
   "metadata": {},
   "source": [
    "# Checking for duplicate rows\n"
   ]
  },
  {
   "cell_type": "code",
   "execution_count": 283,
   "id": "731f1e4b-31ce-4245-8d01-8f288354f563",
   "metadata": {},
   "outputs": [
    {
     "data": {
      "text/plain": [
       "np.int64(1385)"
      ]
     },
     "execution_count": 283,
     "metadata": {},
     "output_type": "execute_result"
    }
   ],
   "source": [
    "df.duplicated().sum()"
   ]
  },
  {
   "cell_type": "markdown",
   "id": "f0bf38d2-d496-468c-a5ce-58e90b0e4e9a",
   "metadata": {},
   "source": [
    "# Drop the duplicates"
   ]
  },
  {
   "cell_type": "code",
   "execution_count": 284,
   "id": "34a69ebb-a9bd-4e21-adec-6ed1428d5ebf",
   "metadata": {},
   "outputs": [],
   "source": [
    "df.drop_duplicates(inplace=True)"
   ]
  },
  {
   "cell_type": "code",
   "execution_count": 285,
   "id": "f9dc60ba-2039-4ad0-9a02-c8663969ac2d",
   "metadata": {},
   "outputs": [
    {
     "data": {
      "text/plain": [
       "np.int64(0)"
      ]
     },
     "execution_count": 285,
     "metadata": {},
     "output_type": "execute_result"
    }
   ],
   "source": [
    "df.duplicated().sum()"
   ]
  },
  {
   "cell_type": "markdown",
   "id": "c242d805-e927-452c-b1f8-4b398640222d",
   "metadata": {},
   "source": [
    "# Correlation analysis - Helps us understand how different features are connected to each other\n"
   ]
  },
  {
   "cell_type": "code",
   "execution_count": 286,
   "id": "3201eb32-a520-49bb-bd09-040c9547ab03",
   "metadata": {},
   "outputs": [
    {
     "data": {
      "text/html": [
       "<div>\n",
       "<style scoped>\n",
       "    .dataframe tbody tr th:only-of-type {\n",
       "        vertical-align: middle;\n",
       "    }\n",
       "\n",
       "    .dataframe tbody tr th {\n",
       "        vertical-align: top;\n",
       "    }\n",
       "\n",
       "    .dataframe thead th {\n",
       "        text-align: right;\n",
       "    }\n",
       "</style>\n",
       "<table border=\"1\" class=\"dataframe\">\n",
       "  <thead>\n",
       "    <tr style=\"text-align: right;\">\n",
       "      <th></th>\n",
       "      <th>ID</th>\n",
       "      <th>Age</th>\n",
       "      <th>Height</th>\n",
       "      <th>Weight</th>\n",
       "      <th>Year</th>\n",
       "    </tr>\n",
       "  </thead>\n",
       "  <tbody>\n",
       "    <tr>\n",
       "      <th>ID</th>\n",
       "      <td>1.000000</td>\n",
       "      <td>-0.002825</td>\n",
       "      <td>-0.009791</td>\n",
       "      <td>-0.008059</td>\n",
       "      <td>0.011381</td>\n",
       "    </tr>\n",
       "    <tr>\n",
       "      <th>Age</th>\n",
       "      <td>-0.002825</td>\n",
       "      <td>1.000000</td>\n",
       "      <td>0.111115</td>\n",
       "      <td>0.168071</td>\n",
       "      <td>-0.088250</td>\n",
       "    </tr>\n",
       "    <tr>\n",
       "      <th>Height</th>\n",
       "      <td>-0.009791</td>\n",
       "      <td>0.111115</td>\n",
       "      <td>1.000000</td>\n",
       "      <td>0.786635</td>\n",
       "      <td>0.030126</td>\n",
       "    </tr>\n",
       "    <tr>\n",
       "      <th>Weight</th>\n",
       "      <td>-0.008059</td>\n",
       "      <td>0.168071</td>\n",
       "      <td>0.786635</td>\n",
       "      <td>1.000000</td>\n",
       "      <td>0.011598</td>\n",
       "    </tr>\n",
       "    <tr>\n",
       "      <th>Year</th>\n",
       "      <td>0.011381</td>\n",
       "      <td>-0.088250</td>\n",
       "      <td>0.030126</td>\n",
       "      <td>0.011598</td>\n",
       "      <td>1.000000</td>\n",
       "    </tr>\n",
       "  </tbody>\n",
       "</table>\n",
       "</div>"
      ],
      "text/plain": [
       "              ID       Age    Height    Weight      Year\n",
       "ID      1.000000 -0.002825 -0.009791 -0.008059  0.011381\n",
       "Age    -0.002825  1.000000  0.111115  0.168071 -0.088250\n",
       "Height -0.009791  0.111115  1.000000  0.786635  0.030126\n",
       "Weight -0.008059  0.168071  0.786635  1.000000  0.011598\n",
       "Year    0.011381 -0.088250  0.030126  0.011598  1.000000"
      ]
     },
     "execution_count": 286,
     "metadata": {},
     "output_type": "execute_result"
    }
   ],
   "source": [
    "numerical_data = df.select_dtypes(include='number')\n",
    "numerical_data.corr()"
   ]
  },
  {
   "cell_type": "code",
   "execution_count": 287,
   "id": "da324af3-f47c-46a0-aa4e-cd0b79f4ee39",
   "metadata": {},
   "outputs": [
    {
     "data": {
      "text/plain": [
       "<Axes: >"
      ]
     },
     "execution_count": 287,
     "metadata": {},
     "output_type": "execute_result"
    },
    {
     "data": {
      "image/png": "[encoded data removed]",
      "text/plain": [
       "<Figure size 640x480 with 2 Axes>"
      ]
     },
     "metadata": {},
     "output_type": "display_data"
    }
   ],
   "source": [
    "sns.heatmap(numerical_data.corr()) # Shows the Pearson Correlation Coefficient between the different features\n",
    "# # Values between -1 and 1. 0 - no correlation. 1 - perfect correlation. Light colors indicate higher correlations."
   ]
  },
  {
   "cell_type": "markdown",
   "id": "8b079335-a002-4270-87a5-a0c36c0c792d",
   "metadata": {},
   "source": [
    "# How to search for a value if you don't know the column name in which it is in"
   ]
  },
  {
   "cell_type": "code",
   "execution_count": 288,
   "id": "7aebdb12-cab1-4067-9339-776e1ed5b0d2",
   "metadata": {},
   "outputs": [
    {
     "data": {
      "text/html": [
       "<div>\n",
       "<style scoped>\n",
       "    .dataframe tbody tr th:only-of-type {\n",
       "        vertical-align: middle;\n",
       "    }\n",
       "\n",
       "    .dataframe tbody tr th {\n",
       "        vertical-align: top;\n",
       "    }\n",
       "\n",
       "    .dataframe thead th {\n",
       "        text-align: right;\n",
       "    }\n",
       "</style>\n",
       "<table border=\"1\" class=\"dataframe\">\n",
       "  <thead>\n",
       "    <tr style=\"text-align: right;\">\n",
       "      <th></th>\n",
       "      <th>ID</th>\n",
       "      <th>Name</th>\n",
       "      <th>Sex</th>\n",
       "      <th>Age</th>\n",
       "      <th>Height</th>\n",
       "      <th>Weight</th>\n",
       "      <th>Team</th>\n",
       "      <th>NOC</th>\n",
       "      <th>Games</th>\n",
       "      <th>Year</th>\n",
       "      <th>Season</th>\n",
       "      <th>City</th>\n",
       "      <th>Sport</th>\n",
       "      <th>Event</th>\n",
       "      <th>Medal</th>\n",
       "    </tr>\n",
       "  </thead>\n",
       "  <tbody>\n",
       "    <tr>\n",
       "      <th>0</th>\n",
       "      <td>1</td>\n",
       "      <td>A Dijiang</td>\n",
       "      <td>M</td>\n",
       "      <td>24.0</td>\n",
       "      <td>180.00000</td>\n",
       "      <td>80.000000</td>\n",
       "      <td>China</td>\n",
       "      <td>CHN</td>\n",
       "      <td>1992 Summer</td>\n",
       "      <td>1992</td>\n",
       "      <td>Summer</td>\n",
       "      <td>Barcelona</td>\n",
       "      <td>Basketball</td>\n",
       "      <td>Basketball Men's Basketball</td>\n",
       "      <td>NaN</td>\n",
       "    </tr>\n",
       "    <tr>\n",
       "      <th>6427</th>\n",
       "      <td>3605</td>\n",
       "      <td>An Weijiang</td>\n",
       "      <td>M</td>\n",
       "      <td>22.0</td>\n",
       "      <td>178.00000</td>\n",
       "      <td>72.000000</td>\n",
       "      <td>China</td>\n",
       "      <td>CHN</td>\n",
       "      <td>2006 Winter</td>\n",
       "      <td>2006</td>\n",
       "      <td>Winter</td>\n",
       "      <td>Torino</td>\n",
       "      <td>Speed Skating</td>\n",
       "      <td>Speed Skating Men's 500 metres</td>\n",
       "      <td>NaN</td>\n",
       "    </tr>\n",
       "    <tr>\n",
       "      <th>6428</th>\n",
       "      <td>3605</td>\n",
       "      <td>An Weijiang</td>\n",
       "      <td>M</td>\n",
       "      <td>22.0</td>\n",
       "      <td>178.00000</td>\n",
       "      <td>72.000000</td>\n",
       "      <td>China</td>\n",
       "      <td>CHN</td>\n",
       "      <td>2006 Winter</td>\n",
       "      <td>2006</td>\n",
       "      <td>Winter</td>\n",
       "      <td>Torino</td>\n",
       "      <td>Speed Skating</td>\n",
       "      <td>Speed Skating Men's 1,000 metres</td>\n",
       "      <td>NaN</td>\n",
       "    </tr>\n",
       "    <tr>\n",
       "      <th>86663</th>\n",
       "      <td>43952</td>\n",
       "      <td>Guo Chengjiang</td>\n",
       "      <td>M</td>\n",
       "      <td>24.0</td>\n",
       "      <td>175.33897</td>\n",
       "      <td>70.702393</td>\n",
       "      <td>China</td>\n",
       "      <td>CHN</td>\n",
       "      <td>1980 Winter</td>\n",
       "      <td>1980</td>\n",
       "      <td>Winter</td>\n",
       "      <td>Lake Placid</td>\n",
       "      <td>Speed Skating</td>\n",
       "      <td>Speed Skating Men's 1,500 metres</td>\n",
       "      <td>NaN</td>\n",
       "    </tr>\n",
       "    <tr>\n",
       "      <th>100065</th>\n",
       "      <td>50636</td>\n",
       "      <td>Huang Qijiang</td>\n",
       "      <td>M</td>\n",
       "      <td>19.0</td>\n",
       "      <td>182.00000</td>\n",
       "      <td>72.000000</td>\n",
       "      <td>China</td>\n",
       "      <td>CHN</td>\n",
       "      <td>1988 Summer</td>\n",
       "      <td>1988</td>\n",
       "      <td>Summer</td>\n",
       "      <td>Seoul</td>\n",
       "      <td>Water Polo</td>\n",
       "      <td>Water Polo Men's Water Polo</td>\n",
       "      <td>NaN</td>\n",
       "    </tr>\n",
       "    <tr>\n",
       "      <th>100137</th>\n",
       "      <td>50662</td>\n",
       "      <td>Huang Yaojiang</td>\n",
       "      <td>M</td>\n",
       "      <td>22.0</td>\n",
       "      <td>189.00000</td>\n",
       "      <td>80.000000</td>\n",
       "      <td>China</td>\n",
       "      <td>CHN</td>\n",
       "      <td>2004 Summer</td>\n",
       "      <td>2004</td>\n",
       "      <td>Summer</td>\n",
       "      <td>Athina</td>\n",
       "      <td>Fencing</td>\n",
       "      <td>Fencing Men's Sabre, Individual</td>\n",
       "      <td>NaN</td>\n",
       "    </tr>\n",
       "    <tr>\n",
       "      <th>100138</th>\n",
       "      <td>50662</td>\n",
       "      <td>Huang Yaojiang</td>\n",
       "      <td>M</td>\n",
       "      <td>22.0</td>\n",
       "      <td>189.00000</td>\n",
       "      <td>80.000000</td>\n",
       "      <td>China</td>\n",
       "      <td>CHN</td>\n",
       "      <td>2004 Summer</td>\n",
       "      <td>2004</td>\n",
       "      <td>Summer</td>\n",
       "      <td>Athina</td>\n",
       "      <td>Fencing</td>\n",
       "      <td>Fencing Men's Sabre, Team</td>\n",
       "      <td>NaN</td>\n",
       "    </tr>\n",
       "    <tr>\n",
       "      <th>100139</th>\n",
       "      <td>50662</td>\n",
       "      <td>Huang Yaojiang</td>\n",
       "      <td>M</td>\n",
       "      <td>26.0</td>\n",
       "      <td>189.00000</td>\n",
       "      <td>80.000000</td>\n",
       "      <td>China</td>\n",
       "      <td>CHN</td>\n",
       "      <td>2008 Summer</td>\n",
       "      <td>2008</td>\n",
       "      <td>Summer</td>\n",
       "      <td>Beijing</td>\n",
       "      <td>Fencing</td>\n",
       "      <td>Fencing Men's Sabre, Team</td>\n",
       "      <td>NaN</td>\n",
       "    </tr>\n",
       "    <tr>\n",
       "      <th>137920</th>\n",
       "      <td>69315</td>\n",
       "      <td>Li Chengjiang</td>\n",
       "      <td>M</td>\n",
       "      <td>22.0</td>\n",
       "      <td>170.00000</td>\n",
       "      <td>61.000000</td>\n",
       "      <td>China</td>\n",
       "      <td>CHN</td>\n",
       "      <td>2002 Winter</td>\n",
       "      <td>2002</td>\n",
       "      <td>Winter</td>\n",
       "      <td>Salt Lake City</td>\n",
       "      <td>Figure Skating</td>\n",
       "      <td>Figure Skating Men's Singles</td>\n",
       "      <td>NaN</td>\n",
       "    </tr>\n",
       "    <tr>\n",
       "      <th>137921</th>\n",
       "      <td>69315</td>\n",
       "      <td>Li Chengjiang</td>\n",
       "      <td>M</td>\n",
       "      <td>26.0</td>\n",
       "      <td>170.00000</td>\n",
       "      <td>61.000000</td>\n",
       "      <td>China</td>\n",
       "      <td>CHN</td>\n",
       "      <td>2006 Winter</td>\n",
       "      <td>2006</td>\n",
       "      <td>Winter</td>\n",
       "      <td>Torino</td>\n",
       "      <td>Figure Skating</td>\n",
       "      <td>Figure Skating Men's Singles</td>\n",
       "      <td>NaN</td>\n",
       "    </tr>\n",
       "    <tr>\n",
       "      <th>137938</th>\n",
       "      <td>69323</td>\n",
       "      <td>Li Chunjiang</td>\n",
       "      <td>M</td>\n",
       "      <td>29.0</td>\n",
       "      <td>190.00000</td>\n",
       "      <td>85.000000</td>\n",
       "      <td>China</td>\n",
       "      <td>CHN</td>\n",
       "      <td>1992 Summer</td>\n",
       "      <td>1992</td>\n",
       "      <td>Summer</td>\n",
       "      <td>Barcelona</td>\n",
       "      <td>Basketball</td>\n",
       "      <td>Basketball Men's Basketball</td>\n",
       "      <td>NaN</td>\n",
       "    </tr>\n",
       "    <tr>\n",
       "      <th>232175</th>\n",
       "      <td>116477</td>\n",
       "      <td>Sun Longjiang</td>\n",
       "      <td>M</td>\n",
       "      <td>17.0</td>\n",
       "      <td>194.00000</td>\n",
       "      <td>85.000000</td>\n",
       "      <td>China</td>\n",
       "      <td>CHN</td>\n",
       "      <td>2010 Winter</td>\n",
       "      <td>2010</td>\n",
       "      <td>Winter</td>\n",
       "      <td>Vancouver</td>\n",
       "      <td>Speed Skating</td>\n",
       "      <td>Speed Skating Men's 1,500 metres</td>\n",
       "      <td>NaN</td>\n",
       "    </tr>\n",
       "    <tr>\n",
       "      <th>238794</th>\n",
       "      <td>119716</td>\n",
       "      <td>Thio Him Tjiang</td>\n",
       "      <td>M</td>\n",
       "      <td>27.0</td>\n",
       "      <td>175.33897</td>\n",
       "      <td>70.702393</td>\n",
       "      <td>Indonesia</td>\n",
       "      <td>INA</td>\n",
       "      <td>1956 Summer</td>\n",
       "      <td>1956</td>\n",
       "      <td>Summer</td>\n",
       "      <td>Melbourne</td>\n",
       "      <td>Football</td>\n",
       "      <td>Football Men's Football</td>\n",
       "      <td>NaN</td>\n",
       "    </tr>\n",
       "    <tr>\n",
       "      <th>263466</th>\n",
       "      <td>131834</td>\n",
       "      <td>Wu Xingjiang</td>\n",
       "      <td>F</td>\n",
       "      <td>27.0</td>\n",
       "      <td>174.00000</td>\n",
       "      <td>70.000000</td>\n",
       "      <td>China</td>\n",
       "      <td>CHN</td>\n",
       "      <td>1984 Summer</td>\n",
       "      <td>1984</td>\n",
       "      <td>Summer</td>\n",
       "      <td>Los Angeles</td>\n",
       "      <td>Handball</td>\n",
       "      <td>Handball Women's Handball</td>\n",
       "      <td>Bronze</td>\n",
       "    </tr>\n",
       "  </tbody>\n",
       "</table>\n",
       "</div>"
      ],
      "text/plain": [
       "            ID             Name Sex   Age     Height     Weight       Team  \\\n",
       "0            1        A Dijiang   M  24.0  180.00000  80.000000      China   \n",
       "6427      3605      An Weijiang   M  22.0  178.00000  72.000000      China   \n",
       "6428      3605      An Weijiang   M  22.0  178.00000  72.000000      China   \n",
       "86663    43952   Guo Chengjiang   M  24.0  175.33897  70.702393      China   \n",
       "100065   50636    Huang Qijiang   M  19.0  182.00000  72.000000      China   \n",
       "100137   50662   Huang Yaojiang   M  22.0  189.00000  80.000000      China   \n",
       "100138   50662   Huang Yaojiang   M  22.0  189.00000  80.000000      China   \n",
       "100139   50662   Huang Yaojiang   M  26.0  189.00000  80.000000      China   \n",
       "137920   69315    Li Chengjiang   M  22.0  170.00000  61.000000      China   \n",
       "137921   69315    Li Chengjiang   M  26.0  170.00000  61.000000      China   \n",
       "137938   69323     Li Chunjiang   M  29.0  190.00000  85.000000      China   \n",
       "232175  116477    Sun Longjiang   M  17.0  194.00000  85.000000      China   \n",
       "238794  119716  Thio Him Tjiang   M  27.0  175.33897  70.702393  Indonesia   \n",
       "263466  131834     Wu Xingjiang   F  27.0  174.00000  70.000000      China   \n",
       "\n",
       "        NOC        Games  Year  Season            City           Sport  \\\n",
       "0       CHN  1992 Summer  1992  Summer       Barcelona      Basketball   \n",
       "6427    CHN  2006 Winter  2006  Winter          Torino   Speed Skating   \n",
       "6428    CHN  2006 Winter  2006  Winter          Torino   Speed Skating   \n",
       "86663   CHN  1980 Winter  1980  Winter     Lake Placid   Speed Skating   \n",
       "100065  CHN  1988 Summer  1988  Summer           Seoul      Water Polo   \n",
       "100137  CHN  2004 Summer  2004  Summer          Athina         Fencing   \n",
       "100138  CHN  2004 Summer  2004  Summer          Athina         Fencing   \n",
       "100139  CHN  2008 Summer  2008  Summer         Beijing         Fencing   \n",
       "137920  CHN  2002 Winter  2002  Winter  Salt Lake City  Figure Skating   \n",
       "137921  CHN  2006 Winter  2006  Winter          Torino  Figure Skating   \n",
       "137938  CHN  1992 Summer  1992  Summer       Barcelona      Basketball   \n",
       "232175  CHN  2010 Winter  2010  Winter       Vancouver   Speed Skating   \n",
       "238794  INA  1956 Summer  1956  Summer       Melbourne        Football   \n",
       "263466  CHN  1984 Summer  1984  Summer     Los Angeles        Handball   \n",
       "\n",
       "                                   Event   Medal  \n",
       "0            Basketball Men's Basketball     NaN  \n",
       "6427      Speed Skating Men's 500 metres     NaN  \n",
       "6428    Speed Skating Men's 1,000 metres     NaN  \n",
       "86663   Speed Skating Men's 1,500 metres     NaN  \n",
       "100065       Water Polo Men's Water Polo     NaN  \n",
       "100137   Fencing Men's Sabre, Individual     NaN  \n",
       "100138         Fencing Men's Sabre, Team     NaN  \n",
       "100139         Fencing Men's Sabre, Team     NaN  \n",
       "137920      Figure Skating Men's Singles     NaN  \n",
       "137921      Figure Skating Men's Singles     NaN  \n",
       "137938       Basketball Men's Basketball     NaN  \n",
       "232175  Speed Skating Men's 1,500 metres     NaN  \n",
       "238794           Football Men's Football     NaN  \n",
       "263466         Handball Women's Handball  Bronze  "
      ]
     },
     "execution_count": 288,
     "metadata": {},
     "output_type": "execute_result"
    }
   ],
   "source": [
    "mask = df.apply(lambda col: col.astype(str).str.contains(\"jiang\", na=False))\n",
    "matches = df[mask.any(axis=1)]\n",
    "matches"
   ]
  },
  {
   "cell_type": "markdown",
   "id": "0fc1abfa-91cf-40df-968f-ce066f04ce1f",
   "metadata": {},
   "source": [
    "# Univariate analysis"
   ]
  },
  {
   "cell_type": "markdown",
   "id": "a2cc6b8e-8c3d-4459-950c-90c12fdc3546",
   "metadata": {},
   "source": [
    "## Categorical data"
   ]
  },
  {
   "cell_type": "code",
   "execution_count": 289,
   "id": "ec951869-abbf-4d14-b708-6e0afffd4b75",
   "metadata": {},
   "outputs": [
    {
     "data": {
      "text/html": [
       "<div>\n",
       "<style scoped>\n",
       "    .dataframe tbody tr th:only-of-type {\n",
       "        vertical-align: middle;\n",
       "    }\n",
       "\n",
       "    .dataframe tbody tr th {\n",
       "        vertical-align: top;\n",
       "    }\n",
       "\n",
       "    .dataframe thead th {\n",
       "        text-align: right;\n",
       "    }\n",
       "</style>\n",
       "<table border=\"1\" class=\"dataframe\">\n",
       "  <thead>\n",
       "    <tr style=\"text-align: right;\">\n",
       "      <th></th>\n",
       "      <th>ID</th>\n",
       "      <th>Name</th>\n",
       "      <th>Sex</th>\n",
       "      <th>Age</th>\n",
       "      <th>Height</th>\n",
       "      <th>Weight</th>\n",
       "      <th>Team</th>\n",
       "      <th>NOC</th>\n",
       "      <th>Games</th>\n",
       "      <th>Year</th>\n",
       "      <th>Season</th>\n",
       "      <th>City</th>\n",
       "      <th>Sport</th>\n",
       "      <th>Event</th>\n",
       "      <th>Medal</th>\n",
       "    </tr>\n",
       "  </thead>\n",
       "  <tbody>\n",
       "    <tr>\n",
       "      <th>0</th>\n",
       "      <td>1</td>\n",
       "      <td>A Dijiang</td>\n",
       "      <td>M</td>\n",
       "      <td>24.0</td>\n",
       "      <td>180.00000</td>\n",
       "      <td>80.000000</td>\n",
       "      <td>China</td>\n",
       "      <td>CHN</td>\n",
       "      <td>1992 Summer</td>\n",
       "      <td>1992</td>\n",
       "      <td>Summer</td>\n",
       "      <td>Barcelona</td>\n",
       "      <td>Basketball</td>\n",
       "      <td>Basketball Men's Basketball</td>\n",
       "      <td>NaN</td>\n",
       "    </tr>\n",
       "    <tr>\n",
       "      <th>1</th>\n",
       "      <td>2</td>\n",
       "      <td>A Lamusi</td>\n",
       "      <td>M</td>\n",
       "      <td>23.0</td>\n",
       "      <td>170.00000</td>\n",
       "      <td>60.000000</td>\n",
       "      <td>China</td>\n",
       "      <td>CHN</td>\n",
       "      <td>2012 Summer</td>\n",
       "      <td>2012</td>\n",
       "      <td>Summer</td>\n",
       "      <td>London</td>\n",
       "      <td>Judo</td>\n",
       "      <td>Judo Men's Extra-Lightweight</td>\n",
       "      <td>NaN</td>\n",
       "    </tr>\n",
       "    <tr>\n",
       "      <th>2</th>\n",
       "      <td>3</td>\n",
       "      <td>Gunnar Nielsen Aaby</td>\n",
       "      <td>M</td>\n",
       "      <td>24.0</td>\n",
       "      <td>175.33897</td>\n",
       "      <td>70.702393</td>\n",
       "      <td>Denmark</td>\n",
       "      <td>DEN</td>\n",
       "      <td>1920 Summer</td>\n",
       "      <td>1920</td>\n",
       "      <td>Summer</td>\n",
       "      <td>Antwerpen</td>\n",
       "      <td>Football</td>\n",
       "      <td>Football Men's Football</td>\n",
       "      <td>NaN</td>\n",
       "    </tr>\n",
       "    <tr>\n",
       "      <th>3</th>\n",
       "      <td>4</td>\n",
       "      <td>Edgar Lindenau Aabye</td>\n",
       "      <td>M</td>\n",
       "      <td>34.0</td>\n",
       "      <td>175.33897</td>\n",
       "      <td>70.702393</td>\n",
       "      <td>Denmark/Sweden</td>\n",
       "      <td>DEN</td>\n",
       "      <td>1900 Summer</td>\n",
       "      <td>1900</td>\n",
       "      <td>Summer</td>\n",
       "      <td>Paris</td>\n",
       "      <td>Tug-Of-War</td>\n",
       "      <td>Tug-Of-War Men's Tug-Of-War</td>\n",
       "      <td>Gold</td>\n",
       "    </tr>\n",
       "    <tr>\n",
       "      <th>4</th>\n",
       "      <td>5</td>\n",
       "      <td>Christine Jacoba Aaftink</td>\n",
       "      <td>F</td>\n",
       "      <td>21.0</td>\n",
       "      <td>185.00000</td>\n",
       "      <td>82.000000</td>\n",
       "      <td>Netherlands</td>\n",
       "      <td>NED</td>\n",
       "      <td>1988 Winter</td>\n",
       "      <td>1988</td>\n",
       "      <td>Winter</td>\n",
       "      <td>Calgary</td>\n",
       "      <td>Speed Skating</td>\n",
       "      <td>Speed Skating Women's 500 metres</td>\n",
       "      <td>NaN</td>\n",
       "    </tr>\n",
       "  </tbody>\n",
       "</table>\n",
       "</div>"
      ],
      "text/plain": [
       "   ID                      Name Sex   Age     Height     Weight  \\\n",
       "0   1                 A Dijiang   M  24.0  180.00000  80.000000   \n",
       "1   2                  A Lamusi   M  23.0  170.00000  60.000000   \n",
       "2   3       Gunnar Nielsen Aaby   M  24.0  175.33897  70.702393   \n",
       "3   4      Edgar Lindenau Aabye   M  34.0  175.33897  70.702393   \n",
       "4   5  Christine Jacoba Aaftink   F  21.0  185.00000  82.000000   \n",
       "\n",
       "             Team  NOC        Games  Year  Season       City          Sport  \\\n",
       "0           China  CHN  1992 Summer  1992  Summer  Barcelona     Basketball   \n",
       "1           China  CHN  2012 Summer  2012  Summer     London           Judo   \n",
       "2         Denmark  DEN  1920 Summer  1920  Summer  Antwerpen       Football   \n",
       "3  Denmark/Sweden  DEN  1900 Summer  1900  Summer      Paris     Tug-Of-War   \n",
       "4     Netherlands  NED  1988 Winter  1988  Winter    Calgary  Speed Skating   \n",
       "\n",
       "                              Event Medal  \n",
       "0       Basketball Men's Basketball   NaN  \n",
       "1      Judo Men's Extra-Lightweight   NaN  \n",
       "2           Football Men's Football   NaN  \n",
       "3       Tug-Of-War Men's Tug-Of-War  Gold  \n",
       "4  Speed Skating Women's 500 metres   NaN  "
      ]
     },
     "execution_count": 289,
     "metadata": {},
     "output_type": "execute_result"
    }
   ],
   "source": [
    "df.head()"
   ]
  },
  {
   "cell_type": "markdown",
   "id": "0f7db7df-c439-4d1e-869f-50e6f650ce87",
   "metadata": {},
   "source": [
    "### Distribution of Athletes by Gender (Sex)"
   ]
  },
  {
   "cell_type": "code",
   "execution_count": 290,
   "id": "9e4e956e-9b03-4996-8b18-b15e14f690ce",
   "metadata": {},
   "outputs": [
    {
     "data": {
      "text/plain": [
       "Sex\n",
       "M    195353\n",
       "F     74378\n",
       "Name: count, dtype: int64"
      ]
     },
     "execution_count": 290,
     "metadata": {},
     "output_type": "execute_result"
    }
   ],
   "source": [
    "df[\"Sex\"].value_counts()"
   ]
  },
  {
   "cell_type": "code",
   "execution_count": 291,
   "id": "562f7fb6-5f4a-446e-ab66-6cf5914a4d10",
   "metadata": {},
   "outputs": [
    {
     "data": {
      "text/plain": [
       "<Axes: xlabel='Sex', ylabel='count'>"
      ]
     },
     "execution_count": 291,
     "metadata": {},
     "output_type": "execute_result"
    },
    {
     "data": {
      "image/png": "[encoded data removed]",
      "text/plain": [
       "<Figure size 640x480 with 1 Axes>"
      ]
     },
     "metadata": {},
     "output_type": "display_data"
    }
   ],
   "source": [
    "sns.countplot(data=df, x=\"Sex\")"
   ]
  },
  {
   "cell_type": "code",
   "execution_count": 292,
   "id": "e4b9e49c-134a-469b-b645-cc8d2a9d247d",
   "metadata": {},
   "outputs": [
    {
     "data": {
      "text/html": [
       "<div>\n",
       "<style scoped>\n",
       "    .dataframe tbody tr th:only-of-type {\n",
       "        vertical-align: middle;\n",
       "    }\n",
       "\n",
       "    .dataframe tbody tr th {\n",
       "        vertical-align: top;\n",
       "    }\n",
       "\n",
       "    .dataframe thead th {\n",
       "        text-align: right;\n",
       "    }\n",
       "</style>\n",
       "<table border=\"1\" class=\"dataframe\">\n",
       "  <thead>\n",
       "    <tr style=\"text-align: right;\">\n",
       "      <th></th>\n",
       "      <th>Sex</th>\n",
       "      <th>count</th>\n",
       "    </tr>\n",
       "  </thead>\n",
       "  <tbody>\n",
       "    <tr>\n",
       "      <th>0</th>\n",
       "      <td>M</td>\n",
       "      <td>195353</td>\n",
       "    </tr>\n",
       "    <tr>\n",
       "      <th>1</th>\n",
       "      <td>F</td>\n",
       "      <td>74378</td>\n",
       "    </tr>\n",
       "  </tbody>\n",
       "</table>\n",
       "</div>"
      ],
      "text/plain": [
       "  Sex   count\n",
       "0   M  195353\n",
       "1   F   74378"
      ]
     },
     "execution_count": 292,
     "metadata": {},
     "output_type": "execute_result"
    }
   ],
   "source": [
    "m_vs_f = df[\"Sex\"].value_counts().reset_index()\n",
    "m_vs_f"
   ]
  },
  {
   "cell_type": "code",
   "execution_count": 293,
   "id": "b2842937-8cb1-4cea-9f1e-46f3f9c87135",
   "metadata": {},
   "outputs": [
    {
     "data": {
      "text/plain": [
       "<Axes: xlabel='Sex', ylabel='count'>"
      ]
     },
     "execution_count": 293,
     "metadata": {},
     "output_type": "execute_result"
    },
    {
     "data": {
      "image/png": "[encoded data removed]",
      "text/plain": [
       "<Figure size 640x480 with 1 Axes>"
      ]
     },
     "metadata": {},
     "output_type": "display_data"
    }
   ],
   "source": [
    "sns.barplot(data=m_vs_f, x=\"Sex\", y=\"count\")"
   ]
  },
  {
   "cell_type": "code",
   "execution_count": 294,
   "id": "c57ec99d-4dd0-42c7-9fcc-594aa512b37d",
   "metadata": {},
   "outputs": [
    {
     "data": {
      "text/plain": [
       "Sex\n",
       "M    195353\n",
       "F     74378\n",
       "Name: count, dtype: int64"
      ]
     },
     "execution_count": 294,
     "metadata": {},
     "output_type": "execute_result"
    }
   ],
   "source": [
    "m_vs_f = df[\"Sex\"].value_counts()\n",
    "m_vs_f"
   ]
  },
  {
   "cell_type": "code",
   "execution_count": 295,
   "id": "48f48541-67bf-4fc7-aba5-7618dc9f08c2",
   "metadata": {},
   "outputs": [
    {
     "data": {
      "text/plain": [
       "Index(['M', 'F'], dtype='object', name='Sex')"
      ]
     },
     "execution_count": 295,
     "metadata": {},
     "output_type": "execute_result"
    }
   ],
   "source": [
    "m_vs_f.index"
   ]
  },
  {
   "cell_type": "code",
   "execution_count": 296,
   "id": "50b60312-4ecf-44fb-951b-b4be1963d331",
   "metadata": {},
   "outputs": [
    {
     "data": {
      "text/plain": [
       "array([195353,  74378])"
      ]
     },
     "execution_count": 296,
     "metadata": {},
     "output_type": "execute_result"
    }
   ],
   "source": [
    "m_vs_f.values"
   ]
  },
  {
   "cell_type": "code",
   "execution_count": 297,
   "id": "273bc409-04df-4107-bbc9-d7da077ea5b7",
   "metadata": {},
   "outputs": [
    {
     "data": {
      "image/png": "[encoded data removed]",
      "text/plain": [
       "<Figure size 640x480 with 1 Axes>"
      ]
     },
     "metadata": {},
     "output_type": "display_data"
    }
   ],
   "source": [
    "sns.barplot(x=m_vs_f.index, y=m_vs_f.values) # Here we don't need to add the data=m_vs_f part. Wow!\n",
    "# If it's a dataframe, we need to mention data=df, if they are a series, we can just name the series. \n",
    "\n",
    "plt.title(\"Gender distribution in the olympics\")\n",
    "plt.xlabel(\"Gender\")\n",
    "plt.ylabel(\"Count\")\n",
    "plt.show()"
   ]
  },
  {
   "cell_type": "markdown",
   "id": "a2683937-8aae-4d6a-972c-6db88720f352",
   "metadata": {},
   "source": [
    "### Most popular sports based on athlete participation"
   ]
  },
  {
   "cell_type": "code",
   "execution_count": 298,
   "id": "33d157d6-447d-4142-ac5b-a413477ef8b7",
   "metadata": {},
   "outputs": [
    {
     "data": {
      "text/html": [
       "<div>\n",
       "<style scoped>\n",
       "    .dataframe tbody tr th:only-of-type {\n",
       "        vertical-align: middle;\n",
       "    }\n",
       "\n",
       "    .dataframe tbody tr th {\n",
       "        vertical-align: top;\n",
       "    }\n",
       "\n",
       "    .dataframe thead th {\n",
       "        text-align: right;\n",
       "    }\n",
       "</style>\n",
       "<table border=\"1\" class=\"dataframe\">\n",
       "  <thead>\n",
       "    <tr style=\"text-align: right;\">\n",
       "      <th></th>\n",
       "      <th>ID</th>\n",
       "      <th>Name</th>\n",
       "      <th>Sex</th>\n",
       "      <th>Age</th>\n",
       "      <th>Height</th>\n",
       "      <th>Weight</th>\n",
       "      <th>Team</th>\n",
       "      <th>NOC</th>\n",
       "      <th>Games</th>\n",
       "      <th>Year</th>\n",
       "      <th>Season</th>\n",
       "      <th>City</th>\n",
       "      <th>Sport</th>\n",
       "      <th>Event</th>\n",
       "      <th>Medal</th>\n",
       "    </tr>\n",
       "  </thead>\n",
       "  <tbody>\n",
       "    <tr>\n",
       "      <th>0</th>\n",
       "      <td>1</td>\n",
       "      <td>A Dijiang</td>\n",
       "      <td>M</td>\n",
       "      <td>24.0</td>\n",
       "      <td>180.0</td>\n",
       "      <td>80.0</td>\n",
       "      <td>China</td>\n",
       "      <td>CHN</td>\n",
       "      <td>1992 Summer</td>\n",
       "      <td>1992</td>\n",
       "      <td>Summer</td>\n",
       "      <td>Barcelona</td>\n",
       "      <td>Basketball</td>\n",
       "      <td>Basketball Men's Basketball</td>\n",
       "      <td>NaN</td>\n",
       "    </tr>\n",
       "  </tbody>\n",
       "</table>\n",
       "</div>"
      ],
      "text/plain": [
       "   ID       Name Sex   Age  Height  Weight   Team  NOC        Games  Year  \\\n",
       "0   1  A Dijiang   M  24.0   180.0    80.0  China  CHN  1992 Summer  1992   \n",
       "\n",
       "   Season       City       Sport                        Event Medal  \n",
       "0  Summer  Barcelona  Basketball  Basketball Men's Basketball   NaN  "
      ]
     },
     "execution_count": 298,
     "metadata": {},
     "output_type": "execute_result"
    }
   ],
   "source": [
    "df.head(1)"
   ]
  },
  {
   "cell_type": "code",
   "execution_count": 299,
   "id": "256a6faa-d7a5-463c-bb92-a4bf854e7780",
   "metadata": {},
   "outputs": [
    {
     "data": {
      "text/plain": [
       "Sport\n",
       "Athletics               38624\n",
       "Gymnastics              26707\n",
       "Swimming                23195\n",
       "Shooting                11448\n",
       "Cycling                 10827\n",
       "Fencing                 10735\n",
       "Rowing                  10595\n",
       "Cross Country Skiing     9133\n",
       "Alpine Skiing            8829\n",
       "Wrestling                7154\n",
       "Name: count, dtype: int64"
      ]
     },
     "execution_count": 299,
     "metadata": {},
     "output_type": "execute_result"
    }
   ],
   "source": [
    "df[\"Sport\"].value_counts().sort_values(ascending=False).head(10)"
   ]
  },
  {
   "cell_type": "code",
   "execution_count": null,
   "id": "5b2d5f96-4a59-4f8e-bbe7-4f1895ac700c",
   "metadata": {},
   "outputs": [],
   "source": [
    "most_pop_sports = df[\"Sport\"].value_counts().sort_values(ascending=False).head(10)"
   ]
  },
  {
   "cell_type": "code",
   "execution_count": null,
   "id": "8aa029ee-c1db-4a82-be12-bf8169c3b234",
   "metadata": {},
   "outputs": [],
   "source": [
    "sns.barplot(x=most_pop_sports.index, y = most_pop_sports.values)\n",
    "plt.xticks(rotation=75)\n",
    "plt.xlabel(\"Sport\")\n",
    "plt.ylabel(\"Num. of Athletes\")\n",
    "plt.tight_layout()\n",
    "plt.show()"
   ]
  },
  {
   "cell_type": "code",
   "execution_count": null,
   "id": "e68ee6d0-9727-4850-a16e-3f400e668323",
   "metadata": {},
   "outputs": [],
   "source": [
    "df[\"Sport\"].value_counts().sort_values(ascending=False).head(10).plot(kind=\"pie\", autopct=\"%.1f%%\")"
   ]
  },
  {
   "cell_type": "code",
   "execution_count": null,
   "id": "97dc0a5e-6ee9-41cf-a612-bca37dcd7c61",
   "metadata": {},
   "outputs": [],
   "source": [
    "df[\"Sport\"].value_counts().idxmax() # Returns the label of the first maximum value"
   ]
  },
  {
   "cell_type": "code",
   "execution_count": null,
   "id": "12948b87-1925-4ed5-a16f-1a093817231c",
   "metadata": {},
   "outputs": [],
   "source": [
    "help(pd.Series.idxmax)\n"
   ]
  },
  {
   "cell_type": "code",
   "execution_count": null,
   "id": "06f6bc52-28e9-439f-9594-07e5fe5e1cea",
   "metadata": {},
   "outputs": [],
   "source": [
    "pd.Series.idxmax?\n"
   ]
  },
  {
   "cell_type": "markdown",
   "id": "df373462-c6ba-468a-8d6d-5a2f7bd44e25",
   "metadata": {},
   "source": [
    "## Numerical Data"
   ]
  },
  {
   "cell_type": "code",
   "execution_count": null,
   "id": "f3103b1f-b93d-4fe0-8a28-8f0d1e73b4d2",
   "metadata": {},
   "outputs": [],
   "source": [
    "df.head()"
   ]
  },
  {
   "cell_type": "markdown",
   "id": "443d16d7-1e9f-4010-a16c-c81c257885f1",
   "metadata": {},
   "source": [
    "## Distribution of age"
   ]
  },
  {
   "cell_type": "code",
   "execution_count": null,
   "id": "920d4ee0-a76f-47ae-964e-9ae031db5d0e",
   "metadata": {},
   "outputs": [],
   "source": [
    "df[\"Age\"].hist(bins=50)"
   ]
  },
  {
   "cell_type": "code",
   "execution_count": null,
   "id": "1aef651a-4d4e-4e71-964c-a20113133157",
   "metadata": {},
   "outputs": [],
   "source": [
    "plt.figure(figsize=(10, 5))\n",
    "sns.histplot(data=df, x=\"Age\", bins=20, kde=True)\n",
    "plt.xlabel(\"Age\")\n",
    "plt.tight_layout()\n",
    "plt.show()"
   ]
  },
  {
   "cell_type": "code",
   "execution_count": null,
   "id": "2008dd50-a92d-479e-b1c2-0ff3a1fd35f9",
   "metadata": {},
   "outputs": [],
   "source": [
    "sns.boxplot(data=df, x=\"Age\")"
   ]
  },
  {
   "cell_type": "code",
   "execution_count": null,
   "id": "c5940533-8975-49cc-be05-13c4d9beaca3",
   "metadata": {},
   "outputs": [],
   "source": [
    "df[\"Age\"].max()"
   ]
  },
  {
   "cell_type": "code",
   "execution_count": null,
   "id": "4208de70-c9ec-4f83-ba0b-83ef4480356a",
   "metadata": {},
   "outputs": [],
   "source": [
    "df[\"Age\"].min()"
   ]
  },
  {
   "cell_type": "code",
   "execution_count": null,
   "id": "0f1e152b-ee20-44e7-9482-4bf46a5f173f",
   "metadata": {},
   "outputs": [],
   "source": [
    "df[\"Age\"].mean()"
   ]
  },
  {
   "cell_type": "code",
   "execution_count": null,
   "id": "aa8a5ed4-fa72-4c9d-a61d-5ea219f8d90f",
   "metadata": {},
   "outputs": [],
   "source": [
    "df[\"Age\"].skew() \n",
    "\n",
    "#  0 - A perfectly symmetrical distrubution. (Normal distribution). \n",
    "# Skew > 0 - Positively skewed. \n",
    "# 0 > Skew - Negatively skewed. Left tail is longer than the right. "
   ]
  },
  {
   "cell_type": "markdown",
   "id": "c12a01c4-04e8-4244-80ee-211602b8096b",
   "metadata": {},
   "source": [
    "# Bivariate Analysis (2 columns at a time) and Multivariate Analysis (more than 2 columns/ variables)"
   ]
  },
  {
   "cell_type": "markdown",
   "id": "dcc44c7a-d941-4690-a294-3b9cce767a06",
   "metadata": {},
   "source": [
    "## 1. Numerical-Numerical Relationships"
   ]
  },
  {
   "cell_type": "code",
   "execution_count": null,
   "id": "a81b41ee-4ff5-4ee9-80fe-a1ee67c6c047",
   "metadata": {},
   "outputs": [],
   "source": [
    "df.columns"
   ]
  },
  {
   "cell_type": "code",
   "execution_count": null,
   "id": "99cbb397-3a57-4695-89a9-72ec8ff3cf8e",
   "metadata": {},
   "outputs": [],
   "source": [
    "sns.scatterplot(data=df, x=\"Age\", y=\"Height\")\n",
    "plt.show()"
   ]
  },
  {
   "cell_type": "code",
   "execution_count": null,
   "id": "12db6a2f-e2fc-4b1f-a82f-960ae55f8f4b",
   "metadata": {},
   "outputs": [],
   "source": [
    "sns.scatterplot(data=df, x=\"Age\", y=\"Height\",hue=\"Sex\")\n",
    "plt.show()"
   ]
  },
  {
   "cell_type": "markdown",
   "id": "c0519c16-01bb-4d3a-8068-1afbc5b64107",
   "metadata": {},
   "source": [
    "## 2. Numerical-Categorical Relationships (Age distribution by medal type)"
   ]
  },
  {
   "cell_type": "code",
   "execution_count": null,
   "id": "10369c0a-b74e-45bb-9687-1e778855987e",
   "metadata": {},
   "outputs": [],
   "source": [
    "df.columns"
   ]
  },
  {
   "cell_type": "code",
   "execution_count": null,
   "id": "865e67ed-c30c-440f-883a-52fd54c01875",
   "metadata": {},
   "outputs": [],
   "source": [
    "sns.barplot(data=df, x=\"Medal\", y=\"Age\", hue=\"Sex\").legend(bbox_to_anchor=(1, 1), loc='upper left')\n",
    "\n",
    "plt.tight_layout()\n",
    "plt.show()\n"
   ]
  },
  {
   "cell_type": "code",
   "execution_count": null,
   "id": "a5476d82-cb28-4509-88ed-6b36ac144d41",
   "metadata": {},
   "outputs": [],
   "source": [
    "sns.boxplot(data=df, x=\"Age\", y=\"Medal\", hue=\"Sex\")\n",
    "plt.show()"
   ]
  },
  {
   "cell_type": "markdown",
   "id": "16eab8a6-9329-454b-af95-b9780135de94",
   "metadata": {},
   "source": [
    "## 2. Numerical-Categorical Relationships (Age distribution by medal type)"
   ]
  },
  {
   "cell_type": "markdown",
   "id": "7b9eb0bc-4b7a-4585-9d42-373ee40d19bd",
   "metadata": {},
   "source": [
    "# ## How many Gold, Silver, and Bronze medals have been awarded to male and female athletes?"
   ]
  },
  {
   "cell_type": "code",
   "execution_count": null,
   "id": "333fd2d5-6d84-47f8-97af-4c02d8bb3503",
   "metadata": {},
   "outputs": [],
   "source": [
    "df.columns"
   ]
  },
  {
   "cell_type": "code",
   "execution_count": null,
   "id": "38224c99-b702-45ff-a730-5fc794171a14",
   "metadata": {},
   "outputs": [],
   "source": [
    "df.groupby(\"Sex\")[\"Medal\"].count()"
   ]
  },
  {
   "cell_type": "code",
   "execution_count": null,
   "id": "1cbafd42-c92d-4a1f-85cb-22f6f4f8d59b",
   "metadata": {},
   "outputs": [],
   "source": [
    "a = df[\"Medal\"].unique()\n",
    "a"
   ]
  },
  {
   "cell_type": "code",
   "execution_count": null,
   "id": "88fa8b7c-5c44-454e-9fe4-415666ce3fc6",
   "metadata": {},
   "outputs": [],
   "source": [
    "wow = pd.crosstab(df[\"Medal\"], df[\"Sex\"])\n",
    "wow"
   ]
  },
  {
   "cell_type": "code",
   "execution_count": null,
   "id": "52f61f9c-3963-4106-952b-fb4eef7c0af4",
   "metadata": {},
   "outputs": [],
   "source": [
    "df.pivot_table( index=\"Medal\", columns=\"Sex\", aggfunc=\"size\")"
   ]
  },
  {
   "cell_type": "code",
   "execution_count": null,
   "id": "f669e5ed-5738-445b-a9f4-b8ddffad2b86",
   "metadata": {},
   "outputs": [],
   "source": [
    "df.pivot_table(index=\"Medal\", columns=\"Sex\", aggfunc=\"count\")\n",
    "\n"
   ]
  },
  {
   "cell_type": "code",
   "execution_count": null,
   "id": "47810215-2657-4d91-bb1d-a2dd0c93a66b",
   "metadata": {},
   "outputs": [],
   "source": [
    "sns.heatmap(pd.crosstab(df[\"Sex\"],df[\"Medal\"]))"
   ]
  },
  {
   "cell_type": "markdown",
   "id": "b1ede687-c601-4223-9982-8b419cba86c4",
   "metadata": {},
   "source": [
    "## 2. Numerical-Numerical Relationships "
   ]
  },
  {
   "cell_type": "markdown",
   "id": "d1042413-5da6-4ab0-bf41-0c0ddb3429ea",
   "metadata": {},
   "source": [
    "### Medal performance for a specific country per year"
   ]
  },
  {
   "cell_type": "code",
   "execution_count": null,
   "id": "5c3e3998-4a5f-4cb6-97ec-e5d252f2ce6a",
   "metadata": {},
   "outputs": [],
   "source": [
    "df.head(1)"
   ]
  },
  {
   "cell_type": "code",
   "execution_count": null,
   "id": "6882c9ae-1641-41b5-84ef-34b807d1c61d",
   "metadata": {},
   "outputs": [],
   "source": [
    "df[\"Team\"]"
   ]
  },
  {
   "cell_type": "code",
   "execution_count": null,
   "id": "87a3cad3-d03a-4fb0-88f0-9d65967fea60",
   "metadata": {},
   "outputs": [],
   "source": [
    "df[df[\"Team\"]==\"Sri Lanka\"]"
   ]
  },
  {
   "cell_type": "code",
   "execution_count": null,
   "id": "b66e91c3-149e-4c6d-a3fd-c91e8a71e778",
   "metadata": {},
   "outputs": [],
   "source": [
    "sri_lankan_medal = df[df[\"Team\"]==\"Sri Lanka\"].groupby(\"Year\")[\"Medal\"].count()"
   ]
  },
  {
   "cell_type": "code",
   "execution_count": null,
   "id": "625014cb-61e0-4033-8c86-0356bf97de28",
   "metadata": {},
   "outputs": [],
   "source": [
    "sns.lineplot(x=sri_lankan_medal.index, y=sri_lankan_medal.values)"
   ]
  },
  {
   "cell_type": "markdown",
   "id": "2667664a-781f-425f-b836-ecd13bfd0bf9",
   "metadata": {},
   "source": [
    "## 2. Numerical-Categorical Relationships "
   ]
  },
  {
   "cell_type": "markdown",
   "id": "1162761e-bcd4-4816-8507-de712cf2cf84",
   "metadata": {},
   "source": [
    "# Top 10 athletes by the number of medals won\n"
   ]
  },
  {
   "cell_type": "code",
   "execution_count": null,
   "id": "861b8bdd-f6d9-46ca-8078-a16d1d54df17",
   "metadata": {},
   "outputs": [],
   "source": [
    "df.head(1)"
   ]
  },
  {
   "cell_type": "code",
   "execution_count": null,
   "id": "22f5c0c8-b900-4f1b-bc7f-7a27b9fe2451",
   "metadata": {},
   "outputs": [],
   "source": [
    "df.groupby(\"Name\")[\"Medal\"].count().sort_values(ascending=False).head(10)"
   ]
  },
  {
   "cell_type": "code",
   "execution_count": null,
   "id": "d53358fd-f9f3-4c97-884a-d5e56bfe94f0",
   "metadata": {},
   "outputs": [],
   "source": [
    "top_athletes = df.groupby(\"Name\")[\"Medal\"].count().sort_values(ascending=False).head(10)"
   ]
  },
  {
   "cell_type": "code",
   "execution_count": null,
   "id": "7ada5eb6-918b-4ae4-9072-788ba70ef1be",
   "metadata": {},
   "outputs": [],
   "source": [
    "sns.barplot(y=top_athletes.index,x=top_athletes.values)\n",
    "plt.show()"
   ]
  },
  {
   "cell_type": "markdown",
   "id": "2316b996-ebbc-43e7-b284-ea4c4f596fa8",
   "metadata": {},
   "source": [
    "## The count of medals won in each host city "
   ]
  },
  {
   "cell_type": "code",
   "execution_count": null,
   "id": "af6710f4-5efd-4b3b-a8f6-af1cac252d07",
   "metadata": {},
   "outputs": [],
   "source": [
    "df.head(1)"
   ]
  },
  {
   "cell_type": "code",
   "execution_count": null,
   "id": "98924ea2-31f8-40aa-83c3-e9422d4d2951",
   "metadata": {},
   "outputs": [],
   "source": [
    "df.groupby([\"City\", \"Medal\"]).size().unstack()"
   ]
  },
  {
   "cell_type": "markdown",
   "id": "d30119f3-9ce8-4f44-8ec9-92a1d875df0d",
   "metadata": {},
   "source": [
    "## Sort the medal counts per city based on total number of medals (Bronze, Silver, Gold)"
   ]
  },
  {
   "cell_type": "code",
   "execution_count": null,
   "id": "3f593dd0-14cf-4c4c-ba50-c589f955ff73",
   "metadata": {},
   "outputs": [],
   "source": [
    "medal_count = df.groupby([\"City\", \"Medal\"]).size().unstack()"
   ]
  },
  {
   "cell_type": "code",
   "execution_count": null,
   "id": "3cc0dde2-a0bd-40b8-b1a5-05cd42989302",
   "metadata": {},
   "outputs": [],
   "source": [
    "medal_count[\"Total\"] = medal_count[[\"Bronze\", \"Silver\", \"Gold\"]].sum(axis=1)"
   ]
  },
  {
   "cell_type": "code",
   "execution_count": null,
   "id": "dc2d852c-8530-4a4f-bc99-e7466c7fa24c",
   "metadata": {},
   "outputs": [],
   "source": [
    "medal_count"
   ]
  },
  {
   "cell_type": "code",
   "execution_count": null,
   "id": "0232ab79-a09b-4af3-84f4-26e5f3b794ee",
   "metadata": {},
   "outputs": [],
   "source": [
    "medal_count.sort_values(by=\"Total\", ascending=False)"
   ]
  },
  {
   "cell_type": "code",
   "execution_count": null,
   "id": "3a814a61-9963-44d9-80d3-a51f7b79878c",
   "metadata": {},
   "outputs": [],
   "source": []
  }
 ],
 "metadata": {
  "kernelspec": {
   "display_name": "Python 3 (ipykernel)",
   "language": "python",
   "name": "python3"
  },
  "language_info": {
   "codemirror_mode": {
    "name": "ipython",
    "version": 3
   },
   "file_extension": ".py",
   "mimetype": "text/x-python",
   "name": "python",
   "nbconvert_exporter": "python",
   "pygments_lexer": "ipython3",
   "version": "3.13.5"
  }
 },
 "nbformat": 4,
 "nbformat_minor": 5
}
